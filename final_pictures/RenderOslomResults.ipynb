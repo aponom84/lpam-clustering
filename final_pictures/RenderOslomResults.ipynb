{
 "cells": [
  {
   "cell_type": "code",
   "execution_count": 48,
   "metadata": {
    "collapsed": true
   },
   "outputs": [],
   "source": [
    "def shift_all_numbers(inputFile, outputFile, delta):\n",
    "    lines=[]\n",
    "    with open(inputFile) as f:\n",
    "        lines = f.readlines()    \n",
    "    with open(outputFile, 'w') as the_file:\n",
    "        for line in lines:\n",
    "            if ('#' not in line):\n",
    "                the_file.write(\" \".join([str(int(a) + delta ) for a in line.split()]) + \"\\n\")"
   ]
  },
  {
   "cell_type": "code",
   "execution_count": 49,
   "metadata": {},
   "outputs": [
    {
     "name": "stdout",
     "output_type": "stream",
     "text": [
      "/Users/aponom/clustering/final_pictures\r\n"
     ]
    }
   ],
   "source": [
    "!pwd"
   ]
  },
  {
   "cell_type": "code",
   "execution_count": 2,
   "metadata": {},
   "outputs": [
    {
     "name": "stdout",
     "output_type": "stream",
     "text": [
      "CommunityVisualizer.jar\r\n"
     ]
    }
   ],
   "source": [
    "!ls /Users/aponom/"
   ]
  },
  {
   "cell_type": "code",
   "execution_count": 5,
   "metadata": {
    "collapsed": true
   },
   "outputs": [],
   "source": [
    "cv= \"java -jar ../CommunityVisualizer/out/artifacts/CommunityVisualizer_jar/CommunityVisualizer.jar\""
   ]
  },
  {
   "cell_type": "markdown",
   "metadata": {},
   "source": [
    "# OSLOM #"
   ]
  },
  {
   "cell_type": "code",
   "execution_count": 6,
   "metadata": {},
   "outputs": [
    {
     "name": "stdout",
     "output_type": "stream",
     "text": [
      "Exception in thread \"main\" java.lang.ArrayIndexOutOfBoundsException: 0\r\n",
      "\tat latna.CommunityVisualizer.main(CommunityVisualizer.java:20)\r\n"
     ]
    }
   ],
   "source": [
    "! {cv} ../datasets/bench_60/bench_60.gexf ../Results/OSLOM2_bench_60/tp ../datasets/bench_60/bench_60_truth.dat ../final_pictures/oslom_bench_60.gexf"
   ]
  },
  {
   "cell_type": "code",
   "execution_count": 8,
   "metadata": {},
   "outputs": [
    {
     "name": "stdout",
     "output_type": "stream",
     "text": [
      "Sep 08, 2018 5:47:01 PM org.netbeans.modules.masterfs.watcher.Watcher getNotifierForPlatform\n",
      "INFO: Native file watcher is disabled\n",
      "Sep 08, 2018 5:47:02 PM org.gephi.io.processor.plugin.DefaultProcessor process\n",
      "INFO: # Nodes loaded: 60\n",
      "Sep 08, 2018 5:47:02 PM org.gephi.io.processor.plugin.DefaultProcessor process\n",
      "INFO: # Edges loaded: 131\n",
      "Reading ground truth file...\n",
      "Reading ground truth file...\n"
     ]
    }
   ],
   "source": [
    "! {cv} ../datasets/bench_60_dense/bench_60_dense.gml ../Results/OSLOM2_bench_60_dense/tp ../datasets/bench_60_dense/bench_60_dense_truth.dat ../final_pictures/oslom_bench_60_desne.gexf"
   ]
  },
  {
   "cell_type": "code",
   "execution_count": 9,
   "metadata": {},
   "outputs": [
    {
     "name": "stdout",
     "output_type": "stream",
     "text": [
      "Sep 08, 2018 6:15:52 PM org.netbeans.modules.masterfs.watcher.Watcher getNotifierForPlatform\n",
      "INFO: Native file watcher is disabled\n",
      "Sep 08, 2018 6:15:53 PM org.gephi.io.processor.plugin.DefaultProcessor process\n",
      "INFO: # Nodes loaded: 50\n",
      "Sep 08, 2018 6:15:53 PM org.gephi.io.processor.plugin.DefaultProcessor process\n",
      "INFO: # Edges loaded: 141\n",
      "Reading ground truth file...\n",
      "Reading ground truth file...\n"
     ]
    }
   ],
   "source": [
    "! {cv} ../datasets/bench_50/bench_50.gml ../Results/OSLOM2_bench_50/tp ../datasets/bench_50/bench_50_truth.dat ../final_pictures/oslom_bench_50.gexf"
   ]
  },
  {
   "cell_type": "code",
   "execution_count": 10,
   "metadata": {},
   "outputs": [
    {
     "name": "stdout",
     "output_type": "stream",
     "text": [
      "Sep 08, 2018 6:20:18 PM org.netbeans.modules.masterfs.watcher.Watcher getNotifierForPlatform\n",
      "INFO: Native file watcher is disabled\n",
      "Sep 08, 2018 6:20:18 PM org.gephi.io.processor.plugin.DefaultProcessor process\n",
      "INFO: # Nodes loaded: 40\n",
      "Sep 08, 2018 6:20:18 PM org.gephi.io.processor.plugin.DefaultProcessor process\n",
      "INFO: # Edges loaded: 110\n",
      "Reading ground truth file...\n",
      "Reading ground truth file...\n"
     ]
    }
   ],
   "source": [
    "! {cv} ../datasets/bench_40/bench_40.gml ../Results/OSLOM2_bench_40/tp ../datasets/bench_40/bench_40_truth.dat ../final_pictures/oslom_bench_40.gexf"
   ]
  },
  {
   "cell_type": "code",
   "execution_count": 11,
   "metadata": {},
   "outputs": [
    {
     "name": "stdout",
     "output_type": "stream",
     "text": [
      "Sep 08, 2018 6:22:29 PM org.netbeans.modules.masterfs.watcher.Watcher getNotifierForPlatform\n",
      "INFO: Native file watcher is disabled\n",
      "Sep 08, 2018 6:22:29 PM org.gephi.io.processor.plugin.DefaultProcessor process\n",
      "INFO: # Nodes loaded: 30\n",
      "Sep 08, 2018 6:22:29 PM org.gephi.io.processor.plugin.DefaultProcessor process\n",
      "INFO: # Edges loaded: 60\n",
      "Reading ground truth file...\n",
      "Reading ground truth file...\n"
     ]
    }
   ],
   "source": [
    "! {cv} ../datasets/bench_30/bench_30.gml ../Results/OSLOM2_bench_30/tp ../datasets/bench_30/bench_30_truth.dat ../final_pictures/oslom_bench_30.gexf"
   ]
  },
  {
   "cell_type": "code",
   "execution_count": 15,
   "metadata": {},
   "outputs": [
    {
     "name": "stdout",
     "output_type": "stream",
     "text": [
      "Sep 08, 2018 7:12:51 PM org.netbeans.modules.masterfs.watcher.Watcher getNotifierForPlatform\n",
      "INFO: Native file watcher is disabled\n",
      "Sep 08, 2018 7:12:52 PM org.gephi.io.processor.plugin.DefaultProcessor process\n",
      "INFO: # Nodes loaded: 34\n",
      "Sep 08, 2018 7:12:52 PM org.gephi.io.processor.plugin.DefaultProcessor process\n",
      "INFO: # Edges loaded: 78\n",
      "Reading ground truth file...\n",
      "Reading ground truth file...\n"
     ]
    }
   ],
   "source": [
    "! {cv} ../datasets/karate/karate.gml ../Results/OSLOM2_karate/tp ../datasets/karate/truth_karate.dat ../final_pictures/oslom_karate.gexf"
   ]
  },
  {
   "cell_type": "code",
   "execution_count": 19,
   "metadata": {},
   "outputs": [
    {
     "name": "stdout",
     "output_type": "stream",
     "text": [
      "Reading ground truth file...\r\n",
      "Reading ground truth file...\r\n"
     ]
    }
   ],
   "source": [
    "! {cv} ../datasets/polbooks/polbooks.dat ../Results/OSLOM2_polbooks/tp ../datasets/polbooks/truth_polbooks.dat ../final_pictures/oslom_polbooks.gexf"
   ]
  },
  {
   "cell_type": "code",
   "execution_count": 47,
   "metadata": {},
   "outputs": [
    {
     "name": "stdout",
     "output_type": "stream",
     "text": [
      "Sep 09, 2018 9:19:44 PM org.netbeans.modules.masterfs.watcher.Watcher getNotifierForPlatform\n",
      "INFO: Native file watcher is disabled\n",
      "Sep 09, 2018 9:19:45 PM org.gephi.io.processor.plugin.DefaultProcessor process\n",
      "INFO: # Nodes loaded: 70\n",
      "Sep 09, 2018 9:19:45 PM org.gephi.io.processor.plugin.DefaultProcessor process\n",
      "INFO: # Edges loaded: 194\n",
      "Reading ground truth file...\n",
      "Reading ground truth file...\n"
     ]
    }
   ],
   "source": [
    "shift_all_numbers(\"../Results/OSLOM2_school_friendship/tp\", \"../Results/OSLOM2_school_friendship/tp_down\", -1)\n",
    "! {cv} ../datasets/school_friendship/school-2_fixed.gml ../Results/OSLOM2_school_friendship/tp_down ../datasets/school_friendship/truth-school.dat ../final_pictures/oslom_school.gexf"
   ]
  },
  {
   "cell_type": "code",
   "execution_count": 51,
   "metadata": {},
   "outputs": [
    {
     "name": "stdout",
     "output_type": "stream",
     "text": [
      "Sep 09, 2018 9:41:17 PM org.netbeans.modules.masterfs.watcher.Watcher getNotifierForPlatform\n",
      "INFO: Native file watcher is disabled\n",
      "Sep 09, 2018 9:41:18 PM org.gephi.io.processor.plugin.DefaultProcessor process\n",
      "INFO: # Nodes loaded: 115\n",
      "Sep 09, 2018 9:41:18 PM org.gephi.io.processor.plugin.DefaultProcessor process\n",
      "INFO: # Edges loaded: 613\n",
      "Reading ground truth file...\n",
      "Reading ground truth file...\n"
     ]
    }
   ],
   "source": [
    "shift_all_numbers(\"../Results/OSLOM2_football/tp\", \"../Results/OSLOM2_football/tp_down\", -1)\n",
    "! {cv} ../datasets/football/football_grooped.gml ../Results/OSLOM2_football/tp_down ../datasets/football/truth_footballTSEinput.dat ../final_pictures/oslom_football.gexf"
   ]
  },
  {
   "cell_type": "markdown",
   "metadata": {
    "collapsed": true
   },
   "source": [
    "# GCE #"
   ]
  },
  {
   "cell_type": "code",
   "execution_count": 52,
   "metadata": {},
   "outputs": [
    {
     "name": "stdout",
     "output_type": "stream",
     "text": [
      "Sep 09, 2018 9:56:08 PM org.netbeans.modules.masterfs.watcher.Watcher getNotifierForPlatform\n",
      "INFO: Native file watcher is disabled\n",
      "Sep 09, 2018 9:56:08 PM org.gephi.io.processor.plugin.DefaultProcessor process\n",
      "INFO: # Nodes loaded: 70\n",
      "Sep 09, 2018 9:56:08 PM org.gephi.io.processor.plugin.DefaultProcessor process\n",
      "INFO: # Edges loaded: 194\n",
      "Reading ground truth file...\n",
      "Reading ground truth file...\n"
     ]
    }
   ],
   "source": [
    "! {cv} ../datasets/school_friendship/school-2_fixed.gml ../Results/GCE_school_friendship/GCE_output.txt ../datasets/school_friendship/truth-school.dat ../final_pictures/gce_school.gexf"
   ]
  },
  {
   "cell_type": "code",
   "execution_count": 53,
   "metadata": {},
   "outputs": [
    {
     "name": "stdout",
     "output_type": "stream",
     "text": [
      "Sep 09, 2018 10:02:15 PM org.netbeans.modules.masterfs.watcher.Watcher getNotifierForPlatform\n",
      "INFO: Native file watcher is disabled\n",
      "Sep 09, 2018 10:02:15 PM org.gephi.io.processor.plugin.DefaultProcessor process\n",
      "INFO: # Nodes loaded: 115\n",
      "Sep 09, 2018 10:02:15 PM org.gephi.io.processor.plugin.DefaultProcessor process\n",
      "INFO: # Edges loaded: 613\n",
      "Reading ground truth file...\n",
      "Reading ground truth file...\n"
     ]
    }
   ],
   "source": [
    "! {cv} ../datasets/football/football_grooped.gml ../Results/GCE_football/GCE_output.txt ../datasets/football/truth_footballTSEinput.dat ../final_pictures/gce_football.gexf"
   ]
  },
  {
   "cell_type": "code",
   "execution_count": 54,
   "metadata": {},
   "outputs": [
    {
     "name": "stdout",
     "output_type": "stream",
     "text": [
      "Sep 09, 2018 10:08:29 PM org.netbeans.modules.masterfs.watcher.Watcher getNotifierForPlatform\n",
      "INFO: Native file watcher is disabled\n",
      "Sep 09, 2018 10:08:29 PM org.gephi.io.processor.plugin.DefaultProcessor process\n",
      "INFO: # Nodes loaded: 34\n",
      "Sep 09, 2018 10:08:29 PM org.gephi.io.processor.plugin.DefaultProcessor process\n",
      "INFO: # Edges loaded: 78\n",
      "Reading ground truth file...\n",
      "Reading ground truth file...\n"
     ]
    }
   ],
   "source": [
    "! {cv} ../datasets/karate/karate.gml ../Results/GCE_karate/GCE_output.txt ../datasets/karate/truth_karate.dat ../final_pictures/gce_karate.gexf"
   ]
  },
  {
   "cell_type": "code",
   "execution_count": 59,
   "metadata": {},
   "outputs": [
    {
     "name": "stdout",
     "output_type": "stream",
     "text": [
      "Reading ground truth file...\r\n",
      "Reading ground truth file...\r\n"
     ]
    }
   ],
   "source": [
    "! {cv} ../datasets/polbooks/polbooks.dat ../Results/GCE_polbooks/GCE_output.txt ../datasets/polbooks/truth_polbooks.dat ../final_pictures/gce_polbooks.gexf"
   ]
  },
  {
   "cell_type": "code",
   "execution_count": 60,
   "metadata": {},
   "outputs": [
    {
     "name": "stdout",
     "output_type": "stream",
     "text": [
      "Sep 09, 2018 10:22:17 PM org.netbeans.modules.masterfs.watcher.Watcher getNotifierForPlatform\n",
      "INFO: Native file watcher is disabled\n",
      "Sep 09, 2018 10:22:18 PM org.gephi.io.processor.plugin.DefaultProcessor process\n",
      "INFO: # Nodes loaded: 30\n",
      "Sep 09, 2018 10:22:18 PM org.gephi.io.processor.plugin.DefaultProcessor process\n",
      "INFO: # Edges loaded: 60\n",
      "Reading ground truth file...\n",
      "Reading ground truth file...\n"
     ]
    }
   ],
   "source": [
    "! {cv} ../datasets/bench_30/bench_30.gml ../Results/GCE_bench_30/GCE_output.txt ../datasets/bench_30/bench_30_truth.dat ../final_pictures/gce_bench_30.gexf"
   ]
  },
  {
   "cell_type": "code",
   "execution_count": 62,
   "metadata": {},
   "outputs": [
    {
     "name": "stdout",
     "output_type": "stream",
     "text": [
      "Sep 09, 2018 10:26:11 PM org.netbeans.modules.masterfs.watcher.Watcher getNotifierForPlatform\n",
      "INFO: Native file watcher is disabled\n",
      "Sep 09, 2018 10:26:12 PM org.gephi.io.processor.plugin.DefaultProcessor process\n",
      "INFO: # Nodes loaded: 40\n",
      "Sep 09, 2018 10:26:12 PM org.gephi.io.processor.plugin.DefaultProcessor process\n",
      "INFO: # Edges loaded: 110\n",
      "Reading ground truth file...\n",
      "Reading ground truth file...\n"
     ]
    }
   ],
   "source": [
    "! {cv} ../datasets/bench_40/bench_40.gml ../Results/GCE_bench_40/GCE_output.txt ../datasets/bench_40/bench_40_truth.dat ../final_pictures/gce_bench_40.gexf"
   ]
  },
  {
   "cell_type": "code",
   "execution_count": 63,
   "metadata": {},
   "outputs": [
    {
     "name": "stdout",
     "output_type": "stream",
     "text": [
      "Sep 09, 2018 10:30:06 PM org.netbeans.modules.masterfs.watcher.Watcher getNotifierForPlatform\n",
      "INFO: Native file watcher is disabled\n",
      "Sep 09, 2018 10:30:06 PM org.gephi.io.processor.plugin.DefaultProcessor process\n",
      "INFO: # Nodes loaded: 50\n",
      "Sep 09, 2018 10:30:06 PM org.gephi.io.processor.plugin.DefaultProcessor process\n",
      "INFO: # Edges loaded: 141\n",
      "Reading ground truth file...\n",
      "Reading ground truth file...\n"
     ]
    }
   ],
   "source": [
    "! {cv} ../datasets/bench_50/bench_50.gml ../Results/GCE_bench_50/GCE_output.txt ../datasets/bench_50/bench_50_truth.dat ../final_pictures/gce_bench_50.gexf"
   ]
  },
  {
   "cell_type": "code",
   "execution_count": 66,
   "metadata": {},
   "outputs": [
    {
     "name": "stdout",
     "output_type": "stream",
     "text": [
      "Sep 09, 2018 10:37:49 PM org.netbeans.modules.masterfs.watcher.Watcher getNotifierForPlatform\n",
      "INFO: Native file watcher is disabled\n",
      "Sep 09, 2018 10:37:49 PM java.util.logging.LogManager$RootLogger log\n",
      "INFO: Detected encoding UTF-8 in XML file\n",
      "Sep 09, 2018 10:37:49 PM org.gephi.io.processor.plugin.DefaultProcessor process\n",
      "INFO: # Nodes loaded: 60\n",
      "Sep 09, 2018 10:37:49 PM org.gephi.io.processor.plugin.DefaultProcessor process\n",
      "INFO: # Edges loaded: 130\n",
      "Reading ground truth file...\n",
      "Reading ground truth file...\n"
     ]
    }
   ],
   "source": [
    "! {cv} ../datasets/bench_60/bench_60.gexf ../Results/GCE_bench_60/GCE_output.txt ../datasets/bench_60/bench_60_truth.dat ../final_pictures/gce_bench_60.gexf"
   ]
  },
  {
   "cell_type": "code",
   "execution_count": 68,
   "metadata": {},
   "outputs": [
    {
     "name": "stdout",
     "output_type": "stream",
     "text": [
      "Sep 09, 2018 10:41:59 PM org.netbeans.modules.masterfs.watcher.Watcher getNotifierForPlatform\n",
      "INFO: Native file watcher is disabled\n",
      "Sep 09, 2018 10:42:00 PM org.gephi.io.processor.plugin.DefaultProcessor process\n",
      "INFO: # Nodes loaded: 60\n",
      "Sep 09, 2018 10:42:00 PM org.gephi.io.processor.plugin.DefaultProcessor process\n",
      "INFO: # Edges loaded: 131\n",
      "Reading ground truth file...\n",
      "Reading ground truth file...\n"
     ]
    }
   ],
   "source": [
    "! {cv} ../datasets/bench_60_dense/bench_60_dense.gml ../Results/GCE_bench_60_dense/GCE_output.txt ../datasets/bench_60_dense/bench_60_dense_truth.dat ../final_pictures/gce_bench_60_dense.gexf"
   ]
  },
  {
   "cell_type": "markdown",
   "metadata": {},
   "source": [
    "# Copra #"
   ]
  },
  {
   "cell_type": "code",
   "execution_count": 70,
   "metadata": {},
   "outputs": [
    {
     "name": "stdout",
     "output_type": "stream",
     "text": [
      "Sep 09, 2018 10:51:03 PM org.netbeans.modules.masterfs.watcher.Watcher getNotifierForPlatform\n",
      "INFO: Native file watcher is disabled\n",
      "Sep 09, 2018 10:51:04 PM org.gephi.io.processor.plugin.DefaultProcessor process\n",
      "INFO: # Nodes loaded: 60\n",
      "Sep 09, 2018 10:51:04 PM org.gephi.io.processor.plugin.DefaultProcessor process\n",
      "INFO: # Edges loaded: 131\n",
      "Reading ground truth file...\n",
      "Reading ground truth file...\n"
     ]
    }
   ],
   "source": [
    "! {cv} ../datasets/bench_60_dense/bench_60_dense.gml ../Results/COPRA_bench_60_dense/best-clusters-bench_60_dense_network.dat ../datasets/bench_60_dense/bench_60_dense_truth.dat ../final_pictures/copra_bench_60_dense.gexf"
   ]
  },
  {
   "cell_type": "code",
   "execution_count": 72,
   "metadata": {},
   "outputs": [
    {
     "name": "stdout",
     "output_type": "stream",
     "text": [
      "Sep 09, 2018 10:56:56 PM org.netbeans.modules.masterfs.watcher.Watcher getNotifierForPlatform\n",
      "INFO: Native file watcher is disabled\n",
      "Sep 09, 2018 10:56:56 PM java.util.logging.LogManager$RootLogger log\n",
      "INFO: Detected encoding UTF-8 in XML file\n",
      "Sep 09, 2018 10:56:56 PM org.gephi.io.processor.plugin.DefaultProcessor process\n",
      "INFO: # Nodes loaded: 60\n",
      "Sep 09, 2018 10:56:56 PM org.gephi.io.processor.plugin.DefaultProcessor process\n",
      "INFO: # Edges loaded: 130\n",
      "Reading ground truth file...\n",
      "Reading ground truth file...\n"
     ]
    }
   ],
   "source": [
    "! {cv} ../datasets/bench_60/bench_60.gexf ../Results/COPRA_bench_60/best-clusters-bench_60_network.dat ../datasets/bench_60/bench_60_truth.dat ../final_pictures/copra_bench_60.gexf"
   ]
  },
  {
   "cell_type": "code",
   "execution_count": 74,
   "metadata": {},
   "outputs": [
    {
     "name": "stdout",
     "output_type": "stream",
     "text": [
      "Sep 09, 2018 11:04:33 PM org.netbeans.modules.masterfs.watcher.Watcher getNotifierForPlatform\n",
      "INFO: Native file watcher is disabled\n",
      "Sep 09, 2018 11:04:34 PM org.gephi.io.processor.plugin.DefaultProcessor process\n",
      "INFO: # Nodes loaded: 50\n",
      "Sep 09, 2018 11:04:34 PM org.gephi.io.processor.plugin.DefaultProcessor process\n",
      "INFO: # Edges loaded: 141\n",
      "Reading ground truth file...\n",
      "Reading ground truth file...\n"
     ]
    }
   ],
   "source": [
    "! {cv} ../datasets/bench_50/bench_50.gml ../Results/COPRA_bench_50/best-clusters-bench_50_network.dat ../datasets/bench_50/bench_50_truth.dat ../final_pictures/copra_bench_50.gexf"
   ]
  },
  {
   "cell_type": "code",
   "execution_count": 75,
   "metadata": {},
   "outputs": [
    {
     "name": "stdout",
     "output_type": "stream",
     "text": [
      "Sep 09, 2018 11:09:48 PM org.netbeans.modules.masterfs.watcher.Watcher getNotifierForPlatform\n",
      "INFO: Native file watcher is disabled\n",
      "Sep 09, 2018 11:09:48 PM org.gephi.io.processor.plugin.DefaultProcessor process\n",
      "INFO: # Nodes loaded: 40\n",
      "Sep 09, 2018 11:09:48 PM org.gephi.io.processor.plugin.DefaultProcessor process\n",
      "INFO: # Edges loaded: 110\n",
      "Reading ground truth file...\n",
      "Reading ground truth file...\n"
     ]
    }
   ],
   "source": [
    "! {cv} ../datasets/bench_40/bench_40.gml ../Results/COPRA_bench_40/best-clusters-bench_40_network.dat ../datasets/bench_40/bench_40_truth.dat ../final_pictures/copra_bench_40.gexf"
   ]
  },
  {
   "cell_type": "code",
   "execution_count": 76,
   "metadata": {},
   "outputs": [
    {
     "name": "stdout",
     "output_type": "stream",
     "text": [
      "Sep 09, 2018 11:12:16 PM org.netbeans.modules.masterfs.watcher.Watcher getNotifierForPlatform\n",
      "INFO: Native file watcher is disabled\n",
      "Sep 09, 2018 11:12:17 PM org.gephi.io.processor.plugin.DefaultProcessor process\n",
      "INFO: # Nodes loaded: 30\n",
      "Sep 09, 2018 11:12:17 PM org.gephi.io.processor.plugin.DefaultProcessor process\n",
      "INFO: # Edges loaded: 60\n",
      "Reading ground truth file...\n",
      "Reading ground truth file...\n"
     ]
    }
   ],
   "source": [
    "! {cv} ../datasets/bench_30/bench_30.gml ../Results/COPRA_bench_30/best-clusters-bench_30_network.dat ../datasets/bench_30/bench_30_truth.dat ../final_pictures/copra_bench_30.gexf"
   ]
  },
  {
   "cell_type": "code",
   "execution_count": 77,
   "metadata": {},
   "outputs": [
    {
     "name": "stdout",
     "output_type": "stream",
     "text": [
      "Reading ground truth file...\r\n",
      "Reading ground truth file...\r\n"
     ]
    }
   ],
   "source": [
    "! {cv} ../datasets/polbooks/polbooks.dat ../Results/COPRA_polbooks/best-clusters-polbooks.dat ../datasets/polbooks/truth_polbooks.dat ../final_pictures/copra_polbooks.gexf"
   ]
  },
  {
   "cell_type": "code",
   "execution_count": 78,
   "metadata": {},
   "outputs": [
    {
     "name": "stdout",
     "output_type": "stream",
     "text": [
      "Sep 10, 2018 9:45:13 AM org.netbeans.modules.masterfs.watcher.Watcher getNotifierForPlatform\n",
      "INFO: Native file watcher is disabled\n",
      "Sep 10, 2018 9:45:13 AM org.gephi.io.processor.plugin.DefaultProcessor process\n",
      "INFO: # Nodes loaded: 34\n",
      "Sep 10, 2018 9:45:13 AM org.gephi.io.processor.plugin.DefaultProcessor process\n",
      "INFO: # Edges loaded: 78\n",
      "Reading ground truth file...\n",
      "Reading ground truth file...\n"
     ]
    }
   ],
   "source": [
    "! {cv} ../datasets/karate/karate.gml ../Results/COPRA_karate/best-clusters-karate.dat ../datasets/karate/truth_karate.dat ../final_pictures/copra_karate.gexf"
   ]
  },
  {
   "cell_type": "code",
   "execution_count": 84,
   "metadata": {},
   "outputs": [
    {
     "name": "stdout",
     "output_type": "stream",
     "text": [
      "Sep 10, 2018 9:54:15 AM org.netbeans.modules.masterfs.watcher.Watcher getNotifierForPlatform\n",
      "INFO: Native file watcher is disabled\n",
      "Sep 10, 2018 9:54:16 AM org.gephi.io.processor.plugin.DefaultProcessor process\n",
      "INFO: # Nodes loaded: 115\n",
      "Sep 10, 2018 9:54:16 AM org.gephi.io.processor.plugin.DefaultProcessor process\n",
      "INFO: # Edges loaded: 613\n",
      "Reading ground truth file ../datasets/football/truth_footballTSEinput.dat ...\n",
      "Reading ground truth file ../Results/COPRA_football/best-clusters-footballTSEinput_original_down.dat ...\n"
     ]
    }
   ],
   "source": [
    "shift_all_numbers(\"../Results/COPRA_football/best-clusters-footballTSEinput_original.dat\", \"../Results/COPRA_football/best-clusters-footballTSEinput_original_down.dat\", -1)\n",
    "! {cv} ../datasets/football/football_grooped.gml ../Results/COPRA_football/best-clusters-footballTSEinput_original_down.dat ../datasets/football/truth_footballTSEinput.dat ../final_pictures/copra_football.gexf"
   ]
  },
  {
   "cell_type": "code",
   "execution_count": 85,
   "metadata": {},
   "outputs": [
    {
     "name": "stdout",
     "output_type": "stream",
     "text": [
      "Sep 10, 2018 10:04:26 AM org.netbeans.modules.masterfs.watcher.Watcher getNotifierForPlatform\n",
      "INFO: Native file watcher is disabled\n",
      "Sep 10, 2018 10:04:26 AM org.gephi.io.processor.plugin.DefaultProcessor process\n",
      "INFO: # Nodes loaded: 70\n",
      "Sep 10, 2018 10:04:26 AM org.gephi.io.processor.plugin.DefaultProcessor process\n",
      "INFO: # Edges loaded: 194\n",
      "Reading ground truth file ../datasets/school_friendship/truth-school.dat ...\n",
      "Reading ground truth file best-clusters-school-2_down.dat ...\n"
     ]
    }
   ],
   "source": [
    "shift_all_numbers(\"../Results/COPRA_school_friendship/best-clusters-school-2.dat\", \"best-clusters-school-2_down.dat\", -1)\n",
    "! {cv} ../datasets/school_friendship/school-2_fixed.gml best-clusters-school-2_down.dat ../datasets/school_friendship/truth-school.dat ../final_pictures/copra_school.gexf"
   ]
  },
  {
   "cell_type": "code",
   "execution_count": null,
   "metadata": {
    "collapsed": true
   },
   "outputs": [],
   "source": []
  }
 ],
 "metadata": {
  "kernelspec": {
   "display_name": "Python 3",
   "language": "python",
   "name": "python3"
  },
  "language_info": {
   "codemirror_mode": {
    "name": "ipython",
    "version": 3
   },
   "file_extension": ".py",
   "mimetype": "text/x-python",
   "name": "python",
   "nbconvert_exporter": "python",
   "pygments_lexer": "ipython3",
   "version": "3.6.1"
  }
 },
 "nbformat": 4,
 "nbformat_minor": 2
}
