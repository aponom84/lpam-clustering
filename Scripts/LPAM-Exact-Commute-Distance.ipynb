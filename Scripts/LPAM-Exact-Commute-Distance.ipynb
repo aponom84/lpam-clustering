{
 "cells": [
  {
   "cell_type": "markdown",
   "metadata": {},
   "source": [
    "<h1> Link Partitioning Around Medoids - Exact </h1>\n",
    "<br/>\n",
    "Distance function:  Commute Distance"
   ]
  },
  {
   "cell_type": "code",
   "execution_count": 1,
   "metadata": {},
   "outputs": [],
   "source": [
    "import numpy as np\n",
    "import random\n",
    "random.seed = 108\n",
    "from tqdm import tqdm_notebook as tqdm\n",
    "import seaborn as sns\n",
    "import matplotlib.pyplot as plt\n",
    "from mpl_toolkits import mplot3d\n",
    "import pandas as pd\n",
    "%matplotlib inline"
   ]
  },
  {
   "cell_type": "code",
   "execution_count": 2,
   "metadata": {
    "scrolled": true
   },
   "outputs": [
    {
     "name": "stdout",
     "output_type": "stream",
     "text": [
      "/home/latna/aponom/clustering/Scripts\r\n"
     ]
    }
   ],
   "source": [
    "!pwd"
   ]
  },
  {
   "cell_type": "code",
   "execution_count": 3,
   "metadata": {
    "scrolled": true
   },
   "outputs": [
    {
     "name": "stdout",
     "output_type": "stream",
     "text": [
      "Missing required options: i, k\r\n",
      "usage: PMPClustering <-i input_file> <-k number_of_clusters> [-ftbcd]\r\n",
      " -a,--algorithm <arg>         Specifies algorithm that will be used to\r\n",
      "                              find disjoint edge clusters. Possible\r\n",
      "                              values:\r\n",
      "                              pmp (p-median exact algorithm).\r\n",
      "                              kmd (k-medoids heuristic)\r\n",
      "                              kmn (k-means heuristic).\r\n",
      "                              If this option is omitted, the P-Median\r\n",
      "                              algorithm will be used.\r\n",
      " -b,--benchmark               use benchmark format\r\n",
      " -c,--communitiesFile <arg>   use communities file to validate benchmark\r\n",
      " -d,--distance <arg>          the type of function to measure the distance\r\n",
      "                              between nodes.\r\n",
      "                              Possible values:\r\n",
      "                              sp (shortest path)\r\n",
      "                              gd (Generalize Degree)\r\n",
      "                              cm (Commute Distance)\r\n",
      "                              acm (Amplified Commute Distance).\r\n",
      "                              If this option is omitted, the amplified\r\n",
      "                              commute distance function will be used.\r\n",
      " -f,--force                   The previous founded solution by lp_solver\r\n",
      "                              will not be used. lp_solver will be started\r\n",
      "                              forcibly.\r\n",
      "                              The flag effects only the PMP exact edge\r\n",
      "                              clustering algorithm.\r\n",
      "                              By default algorithm will try to get\r\n",
      "                              previous founded solution\r\n",
      " -i,--input <arg>             path to the input file in GML format\r\n",
      " -k <arg>                     Number of clusters to detect (int)\r\n",
      " -l,--linegraph               produce line graph as output\r\n",
      " -o,--outputDir <arg>         the name of the output file. If option was\r\n",
      "                              omitted, the name of the output file\r\n",
      "                              will be composed automatically as\r\n",
      "                              \"{suffix}_{distanceName}_{clusterNumber}_out\r\n",
      "                              .gexf\"\r\n",
      " -t,--threshold <arg>         Vertex i belongs to cluster C, if node i has\r\n",
      "                              fraction of edges in cluster C greater then\r\n",
      "                              this value\r\n",
      "                              Default value is 0.\r\n"
     ]
    }
   ],
   "source": [
    "!java -jar ../my_git/out/artifacts/Clustering_jar/Clustering.jar"
   ]
  },
  {
   "cell_type": "code",
   "execution_count": 28,
   "metadata": {},
   "outputs": [],
   "source": [
    "def lp_experiment(clustersNumber, algorithm, distance, inputFile, groundTruth, params = {}, vertexNumerationShift=0, benchmarkFormat=False):\n",
    "    datasetName = inputFile.split('/')[-2]\n",
    "    sufix = inputFile.split('/')[-1].split('.')[0]\n",
    "    outputDir = \"../Results/lp_{}_{}_{}\".format(algorithm, distance, datasetName)\n",
    "    outputFile = outputDir +'/' +\"pmp_{3}_{2}_{0}_{1}.dat\".format(algorithm, clustersNumber, distance.upper(), sufix)\n",
    "    print(\"Output dir name: {}\".format(outputDir) )\n",
    "    print(\"Output file name: {}\".format(outputFile) )\n",
    "    all_results = {}\n",
    "    bestParam = \"not found\"\n",
    "    nmi_best = 0;\n",
    "    param_list = list(generate_params(params))\n",
    "    for param in tqdm(param_list):\n",
    "        if benchmarkFormat:\n",
    "            tmp=!java -jar ../lpam/out/artifacts/Clustering_jar/Clustering.jar -b -a {algorithm} -o {outputDir} -i {inputFile} -k {clustersNumber} -d {distance} {param}\n",
    "            tmpFile = outputFile\n",
    "        else:\n",
    "            tmp=!java -jar ../lpam/out/artifacts/Clustering_jar/Clustering.jar -a {algorithm} -o {outputDir} -i {inputFile} -k {clustersNumber} -d {distance} {param}\n",
    "            lines=[]\n",
    "            with open(outputFile) as f:\n",
    "                lines = f.readlines()    \n",
    "            tmpFile=\"tmpFile.dat\"\n",
    "            with open(tmpFile, 'w') as the_file:\n",
    "                for line in lines:\n",
    "                    the_file.write(\" \".join([str(int(a)+vertexNumerationShift) for a in line.split()]) + \"\\n\")\n",
    "\n",
    "        output=!../Overlapping-NMI/onmi {groundTruth} {tmpFile}\n",
    "        nmi=float(output[0].split()[1])\n",
    "        all_results[param] = nmi\n",
    "        if nmi >  nmi_best:\n",
    "            bestParam = param\n",
    "            nmi_best = nmi\n",
    "    #restorign solution for the best parameters           \n",
    "    if benchmarkFormat:\n",
    "        tmp=!java -jar ../lpam/out/artifacts/Clustering_jar/Clustering.jar -b -a {algorithm} -o {outputDir} -i {inputFile} -k {clustersNumber} -d {distance} {bestParam}\n",
    "        tmpFile = outputFile\n",
    "    else:\n",
    "        tmp=!java -jar ../lpam/out/artifacts/Clustering_jar/Clustering.jar -a {algorithm} -o {outputDir} -i {inputFile} -k {clustersNumber} -d {distance} {bestParam}\n",
    "        lines=[]\n",
    "        with open(outputFile) as f:\n",
    "            lines = f.readlines()    \n",
    "        tmpFile=\"tmpFile.dat\"\n",
    "        with open(tmpFile, 'w') as the_file:\n",
    "            for line in lines:\n",
    "                the_file.write(\" \".join([str(int(a)+vertexNumerationShift) for a in line.split()]) + \"\\n\")\n",
    "\n",
    "    print(\"Best ONMI: {} params: '{}'\".format(nmi_best, bestParam) )\n",
    "    return all_results"
   ]
  },
  {
   "cell_type": "code",
   "execution_count": 29,
   "metadata": {},
   "outputs": [],
   "source": [
    "def generate_params(params):\n",
    "    keys = list(params.keys())\n",
    "    if len(keys) == 1:\n",
    "        for value in params[keys[0]]:\n",
    "            yield ( keys[0] + \" \" + str(value) )        \n",
    "    if len( keys ) > 1:\n",
    "        for value in params[keys[0]]:\n",
    "            for remain_params in generate_params({k:params[k] for k in keys[1:]}):\n",
    "                yield ( keys[0] + \" \" + str(value) + \" \" + remain_params )"
   ]
  },
  {
   "cell_type": "code",
   "execution_count": 30,
   "metadata": {
    "scrolled": true
   },
   "outputs": [],
   "source": [
    "def plot_all_params(algorithm, dataset, all_results ):\n",
    "    xdata=[]\n",
    "    ydata=[]\n",
    "    df = pd.DataFrame()\n",
    "    for param, nmi in all_results.items():\n",
    "        splited = param.split()\n",
    "        xdata.append(float(splited[1]))\n",
    "        ydata.append(nmi)\n",
    "        df = df.append({'x': float(splited[1]), 'y': nmi}, ignore_index=True)\n",
    "\n",
    "    plt.plot(xdata, ydata, 'C3', zorder=1, lw=3)\n",
    "    # ax = plt.axes(projection='3d')\n",
    "    plt.scatter(xdata, ydata,s=70,zorder=2)\n",
    "    plt.xlabel('threshold')\n",
    "    plt.ylabel('nmi value');\n",
    "    plt.title('Algorithm: {}\\nDataset: {}'.format(algorithm, dataset));\n",
    "    plt.show()"
   ]
  },
  {
   "cell_type": "markdown",
   "metadata": {},
   "source": [
    "# School friendship network #"
   ]
  },
  {
   "cell_type": "code",
   "execution_count": 31,
   "metadata": {},
   "outputs": [],
   "source": [
    "params={}\n",
    "params[\"-t\"] = np.arange(0.05, 1.0, 0.05)"
   ]
  },
  {
   "cell_type": "code",
   "execution_count": 34,
   "metadata": {},
   "outputs": [
    {
     "name": "stdout",
     "output_type": "stream",
     "text": [
      "Output dir name: ../Results/lp_pmp_cm_school_friendship\n",
      "Output file name: ../Results/lp_pmp_cm_school_friendship/pmp_school-2_CM_pmp_7.dat\n"
     ]
    },
    {
     "data": {
      "application/vnd.jupyter.widget-view+json": {
       "model_id": "6433c264aeee444887de63fd2c53bd2b",
       "version_major": 2,
       "version_minor": 0
      },
      "text/plain": [
       "HBox(children=(IntProgress(value=0, max=19), HTML(value='')))"
      ]
     },
     "metadata": {},
     "output_type": "display_data"
    },
    {
     "name": "stdout",
     "output_type": "stream",
     "text": [
      "\n",
      "Best ONMI: 0.555983 params: '-t 0.35000000000000003'\n"
     ]
    }
   ],
   "source": [
    "all_results = lp_experiment(clustersNumber=7, \n",
    "              algorithm = \"pmp\",\n",
    "              distance = \"cm\",\n",
    "              inputFile =  \"../datasets/school_friendship/school-2.gml\", \n",
    "              groundTruth = \"../datasets/school_friendship/truth-school.dat\", \n",
    "              params = params, \n",
    "              vertexNumerationShift=-1, \n",
    "              benchmarkFormat=False)"
   ]
  },
  {
   "cell_type": "code",
   "execution_count": 35,
   "metadata": {},
   "outputs": [
    {
     "data": {
      "image/png": "[encoded data removed]",
      "text/plain": [
       "<Figure size 432x288 with 1 Axes>"
      ]
     },
     "metadata": {},
     "output_type": "display_data"
    }
   ],
   "source": [
    "plot_all_params(algorithm = \"LPAM-Exact + Commute Distance\", dataset = \"School Friendship\", all_results = all_results)"
   ]
  },
  {
   "cell_type": "markdown",
   "metadata": {},
   "source": [
    "## Clustering results for School Frienship Netwrok with the best parameters ##\n",
    "Distance: Commute Distance. Number of Clusters = 7"
   ]
  },
  {
   "cell_type": "markdown",
   "metadata": {},
   "source": [
    "![school-2_ACM_kmd_7_out](../final_pictures/school-2_CM_pmp_7_out.png)"
   ]
  },
  {
   "cell_type": "markdown",
   "metadata": {
    "collapsed": true
   },
   "source": [
    "# Karate Club #"
   ]
  },
  {
   "cell_type": "code",
   "execution_count": 36,
   "metadata": {},
   "outputs": [
    {
     "name": "stdout",
     "output_type": "stream",
     "text": [
      "Output dir name: ../Results/lp_pmp_cm_karate\n",
      "Output file name: ../Results/lp_pmp_cm_karate/pmp_karate_CM_pmp_2.dat\n"
     ]
    },
    {
     "data": {
      "application/vnd.jupyter.widget-view+json": {
       "model_id": "81be23b063664b82b50ae0997d9afa86",
       "version_major": 2,
       "version_minor": 0
      },
      "text/plain": [
       "HBox(children=(IntProgress(value=0, max=19), HTML(value='')))"
      ]
     },
     "metadata": {},
     "output_type": "display_data"
    },
    {
     "name": "stdout",
     "output_type": "stream",
     "text": [
      "\n",
      "Best ONMI: 0.91796 params: '-t 0.45'\n"
     ]
    }
   ],
   "source": [
    "params={}\n",
    "params[\"-t\"] = np.arange(0.05, 1.0, 0.05)\n",
    "all_results = lp_experiment(clustersNumber=2, \n",
    "              algorithm = \"pmp\",\n",
    "              distance = \"cm\",\n",
    "              inputFile =  \"../datasets/karate/karate.gml\", \n",
    "              groundTruth = \"../datasets/karate/truth_karate.dat\", \n",
    "              params = params, \n",
    "              vertexNumerationShift=0, \n",
    "              benchmarkFormat=False)"
   ]
  },
  {
   "cell_type": "code",
   "execution_count": 37,
   "metadata": {},
   "outputs": [
    {
     "data": {
      "image/png": "[encoded data removed]",
      "text/plain": [
       "<Figure size 432x288 with 1 Axes>"
      ]
     },
     "metadata": {},
     "output_type": "display_data"
    }
   ],
   "source": [
    "plot_all_params(algorithm = \"LPAM-Exact+Commute-Distance\", dataset = \"Karate Club \", all_results = all_results)"
   ]
  },
  {
   "cell_type": "markdown",
   "metadata": {},
   "source": [
    "![karate_ACM_kmd_2_out](../final_pictures/karate_ACM_kmd_2_out.png)"
   ]
  },
  {
   "cell_type": "markdown",
   "metadata": {
    "collapsed": true
   },
   "source": [
    "# American Football League c = 12#"
   ]
  },
  {
   "cell_type": "code",
   "execution_count": 38,
   "metadata": {
    "scrolled": true
   },
   "outputs": [
    {
     "name": "stdout",
     "output_type": "stream",
     "text": [
      "Output dir name: ../Results/lp_kmd_cm_football\n",
      "Output file name: ../Results/lp_kmd_cm_football/pmp_footballTSEinput_CM_kmd_12.dat\n"
     ]
    },
    {
     "data": {
      "application/vnd.jupyter.widget-view+json": {
       "model_id": "f2a25010defd44cc9421d5f77b342e52",
       "version_major": 2,
       "version_minor": 0
      },
      "text/plain": [
       "HBox(children=(IntProgress(value=0, max=19), HTML(value='')))"
      ]
     },
     "metadata": {},
     "output_type": "display_data"
    },
    {
     "name": "stdout",
     "output_type": "stream",
     "text": [
      "\n",
      "Best ONMI: 0.71194 params: '-t 0.5'\n"
     ]
    }
   ],
   "source": [
    "params={}\n",
    "params[\"-t\"] = np.arange(0.05, 1.0, 0.05)\n",
    "all_results = lp_experiment(clustersNumber=12, \n",
    "              algorithm = \"kmd\",\n",
    "              distance = \"cm\",\n",
    "              inputFile =  \"../datasets/football/footballTSEinput.gml\", \n",
    "              groundTruth = \"../datasets/football/truth_footballTSEinput.dat\", \n",
    "              params = params, \n",
    "              vertexNumerationShift=-1, \n",
    "              benchmarkFormat=False)"
   ]
  },
  {
   "cell_type": "code",
   "execution_count": 39,
   "metadata": {
    "scrolled": true
   },
   "outputs": [
    {
     "data": {
      "image/png": "[encoded data removed]",
      "text/plain": [
       "<Figure size 432x288 with 1 Axes>"
      ]
     },
     "metadata": {},
     "output_type": "display_data"
    }
   ],
   "source": [
    "plot_all_params(algorithm = \"LPAM-Exact + Commute Distance\", dataset = \"American Foolball League\", all_results = all_results)"
   ]
  },
  {
   "cell_type": "markdown",
   "metadata": {},
   "source": [
    "### Americal Football League  [onmi: 0.71194; thresould: 0.5]"
   ]
  },
  {
   "cell_type": "markdown",
   "metadata": {},
   "source": [
    "![American Football Club](../final_pictures/footballTSEinput_CM_kmd_12_out.png)"
   ]
  },
  {
   "cell_type": "markdown",
   "metadata": {},
   "source": [
    "# Adj-noun#"
   ]
  },
  {
   "cell_type": "code",
   "execution_count": 40,
   "metadata": {},
   "outputs": [
    {
     "name": "stdout",
     "output_type": "stream",
     "text": [
      "Output dir name: ../Results/lp_pmp_cm_adjnoun\n",
      "Output file name: ../Results/lp_pmp_cm_adjnoun/pmp_adjnoun_CM_pmp_2.dat\n"
     ]
    },
    {
     "data": {
      "application/vnd.jupyter.widget-view+json": {
       "model_id": "d3a29a3386424986871df660c34bbadc",
       "version_major": 2,
       "version_minor": 0
      },
      "text/plain": [
       "HBox(children=(IntProgress(value=0, max=19), HTML(value='')))"
      ]
     },
     "metadata": {},
     "output_type": "display_data"
    },
    {
     "name": "stdout",
     "output_type": "stream",
     "text": [
      "\n",
      "Best ONMI: 0.00953164 params: '-t 0.05'\n"
     ]
    }
   ],
   "source": [
    "params={}\n",
    "params[\"-t\"] = np.arange(0.05, 1.0, 0.05)\n",
    "all_results = lp_experiment(clustersNumber=2, \n",
    "              algorithm = \"pmp\",\n",
    "              distance = \"cm\",\n",
    "              inputFile =  \"../datasets/adjnoun/adjnoun.dat\", \n",
    "              groundTruth = \"../datasets/adjnoun/truth_adjnoun.dat\", \n",
    "              params = params, \n",
    "              vertexNumerationShift=0, \n",
    "              benchmarkFormat=True)"
   ]
  },
  {
   "cell_type": "code",
   "execution_count": 41,
   "metadata": {},
   "outputs": [
    {
     "data": {
      "image/png": "[encoded data removed]",
      "text/plain": [
       "<Figure size 432x288 with 1 Axes>"
      ]
     },
     "metadata": {},
     "output_type": "display_data"
    }
   ],
   "source": [
    "plot_all_params(algorithm = \"LPAM-Exact + acm\", dataset = \"Adj noun\", all_results = all_results)"
   ]
  },
  {
   "cell_type": "markdown",
   "metadata": {},
   "source": [
    "### Adj-noun [ onmi: 0.00490969; thresould: 0.1 ] "
   ]
  },
  {
   "cell_type": "markdown",
   "metadata": {},
   "source": [
    "![adjnoun_ACM_kmd_2](../final_pictures/adjnoun_CM_pmp_2_out.png)"
   ]
  },
  {
   "cell_type": "markdown",
   "metadata": {},
   "source": [
    "# Politics Books #"
   ]
  },
  {
   "cell_type": "code",
   "execution_count": 42,
   "metadata": {},
   "outputs": [
    {
     "name": "stdout",
     "output_type": "stream",
     "text": [
      "Output dir name: ../Results/lp_pmp_cm_polbooks\n",
      "Output file name: ../Results/lp_pmp_cm_polbooks/pmp_polbooks_CM_pmp_2.dat\n"
     ]
    },
    {
     "data": {
      "application/vnd.jupyter.widget-view+json": {
       "model_id": "4f2b43c13f014dd99d542ab7acf0bc74",
       "version_major": 2,
       "version_minor": 0
      },
      "text/plain": [
       "HBox(children=(IntProgress(value=0, max=19), HTML(value='')))"
      ]
     },
     "metadata": {},
     "output_type": "display_data"
    },
    {
     "name": "stdout",
     "output_type": "stream",
     "text": [
      "\n",
      "Best ONMI: 0.43517 params: '-t 0.55'\n"
     ]
    }
   ],
   "source": [
    "params={}\n",
    "params[\"-t\"] = np.arange(0.05, 1.0, 0.05)\n",
    "all_results = lp_experiment(clustersNumber=2, \n",
    "              algorithm = \"pmp\",\n",
    "              distance = \"cm\",\n",
    "              inputFile = \"../datasets/polbooks/polbooks.dat\",\n",
    "              groundTruth = \"../datasets/polbooks/truth_polbooks.dat\", \n",
    "              params = params, \n",
    "              vertexNumerationShift=0, \n",
    "              benchmarkFormat=True)"
   ]
  },
  {
   "cell_type": "code",
   "execution_count": 43,
   "metadata": {},
   "outputs": [
    {
     "data": {
      "image/png": "[encoded data removed]",
      "text/plain": [
       "<Figure size 432x288 with 1 Axes>"
      ]
     },
     "metadata": {},
     "output_type": "display_data"
    }
   ],
   "source": [
    "plot_all_params(algorithm = \"LPAM-exact + Commute Distance\", dataset = \"Politics Books\", all_results = all_results)"
   ]
  },
  {
   "cell_type": "markdown",
   "metadata": {},
   "source": [
    "![polbooks_ACM_kmd_2_out](../final_pictures/polbooks_CM_pmp_2_out.png)\n",
    "\n"
   ]
  }
 ],
 "metadata": {
  "kernelspec": {
   "display_name": "Python 3",
   "language": "python",
   "name": "python3"
  },
  "language_info": {
   "codemirror_mode": {
    "name": "ipython",
    "version": 3
   },
   "file_extension": ".py",
   "mimetype": "text/x-python",
   "name": "python",
   "nbconvert_exporter": "python",
   "pygments_lexer": "ipython3",
   "version": "3.6.3"
  }
 },
 "nbformat": 4,
 "nbformat_minor": 2
}
