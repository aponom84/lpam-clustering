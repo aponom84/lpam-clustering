{
 "cells": [
  {
   "cell_type": "markdown",
   "metadata": {},
   "source": [
    "<h1> Link Partitioning by Partioning Around Medoids with Clarance Heuristic </h1>\n",
    "<br/>\n",
    "Distance function: Commute Distance"
   ]
  },
  {
   "cell_type": "code",
   "execution_count": 41,
   "metadata": {},
   "outputs": [],
   "source": [
    "import numpy as np\n",
    "import random\n",
    "random.seed = 108\n",
    "from tqdm import tqdm_notebook as tqdm\n",
    "import seaborn as sns\n",
    "import matplotlib.pyplot as plt\n",
    "from mpl_toolkits import mplot3d\n",
    "import pandas as pd\n",
    "%matplotlib inline"
   ]
  },
  {
   "cell_type": "code",
   "execution_count": 42,
   "metadata": {
    "scrolled": true
   },
   "outputs": [
    {
     "name": "stdout",
     "output_type": "stream",
     "text": [
      "/home/latna/aponom/clustering/Scripts\r\n"
     ]
    }
   ],
   "source": [
    "!pwd"
   ]
  },
  {
   "cell_type": "code",
   "execution_count": 43,
   "metadata": {},
   "outputs": [
    {
     "name": "stdout",
     "output_type": "stream",
     "text": [
      "adjnoun_ACM_pmp_2\t      lp_kmd_cm_polbooks\r\n",
      "COPRA_adjnoun\t\t      lp_kmd_cm_school_friendship\r\n",
      "COPRA_football\t\t      lp_pmp_acm_adjnoun\r\n",
      "COPRA_karate\t\t      lp_pmp_acm_karate\r\n",
      "COPRA_polbooks\t\t      lp_pmp_acm_polbooks\r\n",
      "COPRA_school_friendship       lp_pmp_acm_school_friendship\r\n",
      "GCE_adjnoun\t\t      lp_pmp_cm_adjnoun\r\n",
      "GCE_football\t\t      lp_pmp_cm_karate\r\n",
      "GCE_karate\t\t      lp_pmp_cm_polbooks\r\n",
      "GCE_polbooks\t\t      lp_pmp_cm_school_friendship\r\n",
      "GCE_school_friendship\t      OSLOM2_adjnoun\r\n",
      "Generalize Degre\t      OSLOM2-adjnoun\r\n",
      "lp_kdm_acm_school_friendship  OSLOM2_football\r\n",
      "lp_kmd_acm_adjnoun\t      OSLOM2_karate\r\n",
      "lp_kmd_acm_football\t      OSLOM2-karate\r\n",
      "lp_kmd_acm_karate\t      OSLOM2_polbooks\r\n",
      "lp_kmd_acm_polbooks\t      OSLOM2_school_friendship\r\n",
      "lp_kmd_acm_school_friendship  school-2_ACM_kmd_7\r\n",
      "lp_kmd_cm_adjnoun\t      school-2_ACM_pmp_7\r\n",
      "lp_kmd_cm_football\t      school-2_ACM_pmp_9\r\n",
      "lp_kmd_cm_karate\r\n"
     ]
    }
   ],
   "source": [
    "!ls /home/latna/aponom/clustering/Scripts/../Results/"
   ]
  },
  {
   "cell_type": "code",
   "execution_count": 44,
   "metadata": {
    "scrolled": true
   },
   "outputs": [
    {
     "name": "stdout",
     "output_type": "stream",
     "text": [
      "Error: Unable to access jarfile ../my_git/out/artifacts/Clustering_jar/Clustering.jar\r\n"
     ]
    }
   ],
   "source": [
    "!java -jar ../my_git/out/artifacts/Clustering_jar/Clustering.jar"
   ]
  },
  {
   "cell_type": "code",
   "execution_count": 51,
   "metadata": {},
   "outputs": [],
   "source": [
    "def lp_experiment(clustersNumber, algorithm, distance, inputFile, groundTruth, params = {}, vertexNumerationShift=0, benchmarkFormat=False):\n",
    "    datasetName = inputFile.split('/')[-2]\n",
    "    sufix = inputFile.split('/')[-1].split('.')[0]\n",
    "    outputDir = \"../Results/lp_{}_{}_{}\".format(algorithm, distance, datasetName)\n",
    "    outputFile = outputDir +'/' +\"pmp_{3}_{2}_{0}_{1}.dat\".format(algorithm, clustersNumber, distance.upper(), sufix)\n",
    "    print(\"Output dir name: {}\".format(outputDir) )\n",
    "    print(\"Output file name: {}\".format(outputFile) )\n",
    "    all_results = {}\n",
    "    bestParam = \"not found\"\n",
    "    nmi_best = 0;\n",
    "    param_list = list(generate_params(params))\n",
    "    for param in tqdm(param_list):\n",
    "        if benchmarkFormat:\n",
    "            tmp=!java -jar ../lpam/out/artifacts/Clustering_jar/Clustering.jar -b -a {algorithm} -o {outputDir} -i {inputFile} -k {clustersNumber} -d {distance} {param}     \n",
    "            tmpFile = outputFile\n",
    "        else:\n",
    "            tmp=!java -jar ../lpam/out/artifacts/Clustering_jar/Clustering.jar -a {algorithm} -o {outputDir} -i {inputFile} -k {clustersNumber} -d {distance} {param}\n",
    "            lines=[]\n",
    "            with open(outputFile) as f:\n",
    "                lines = f.readlines()    \n",
    "            tmpFile=\"tmpFile.dat\"\n",
    "            with open(tmpFile, 'w') as the_file:\n",
    "                for line in lines:\n",
    "                    the_file.write(\" \".join([str(int(a)+vertexNumerationShift) for a in line.split()]) + \"\\n\")\n",
    "\n",
    "        output=!../Overlapping-NMI/onmi {groundTruth} {tmpFile}\n",
    "        nmi=float(output[0].split()[1])\n",
    "        all_results[param] = nmi\n",
    "        if nmi >  nmi_best:\n",
    "            bestParam = param\n",
    "            nmi_best = nmi\n",
    "    #restorign solution for the best parameters           \n",
    "    if benchmarkFormat:\n",
    "        tmp=!java -jar ../lpam/out/artifacts/Clustering_jar/Clustering.jar -b -a {algorithm} -o {outputDir} -i {inputFile} -k {clustersNumber} -d {distance} {bestParam}\n",
    "        tmpFile = outputFile\n",
    "    else:\n",
    "        tmp=!java -jar ../lpam/out/artifacts/Clustering_jar/Clustering.jar -a {algorithm} -o {outputDir} -i {inputFile} -k {clustersNumber} -d {distance} {bestParam}\n",
    "        lines=[]\n",
    "        with open(outputFile) as f:\n",
    "            lines = f.readlines()    \n",
    "        tmpFile=\"tmpFile.dat\"\n",
    "        with open(tmpFile, 'w') as the_file:\n",
    "            for line in lines:\n",
    "                the_file.write(\" \".join([str(int(a)+vertexNumerationShift) for a in line.split()]) + \"\\n\")\n",
    "\n",
    "    print(\"Best ONMI: {} params: '{}'\".format(nmi_best, bestParam) )\n",
    "    return all_results"
   ]
  },
  {
   "cell_type": "code",
   "execution_count": 52,
   "metadata": {},
   "outputs": [],
   "source": [
    "def generate_params(params):\n",
    "    keys = list(params.keys())\n",
    "    if len(keys) == 1:\n",
    "        for value in params[keys[0]]:\n",
    "            yield ( keys[0] + \" \" + str(value) )        \n",
    "    if len( keys ) > 1:\n",
    "        for value in params[keys[0]]:\n",
    "            for remain_params in generate_params({k:params[k] for k in keys[1:]}):\n",
    "                yield ( keys[0] + \" \" + str(value) + \" \" + remain_params )"
   ]
  },
  {
   "cell_type": "code",
   "execution_count": 53,
   "metadata": {
    "scrolled": true
   },
   "outputs": [],
   "source": [
    "def plot_all_params(algorithm, dataset, all_results ):\n",
    "    xdata=[]\n",
    "    ydata=[]\n",
    "    df = pd.DataFrame()\n",
    "    for param, nmi in all_results.items():\n",
    "        splited = param.split()\n",
    "        xdata.append(float(splited[1]))\n",
    "        ydata.append(nmi)\n",
    "        df = df.append({'x': float(splited[1]), 'y': nmi}, ignore_index=True)\n",
    "\n",
    "    plt.plot(xdata, ydata, 'C3', zorder=1, lw=3)\n",
    "    # ax = plt.axes(projection='3d')\n",
    "    plt.scatter(xdata, ydata,s=70,zorder=2)\n",
    "    plt.xlabel('threshold')\n",
    "    plt.ylabel('nmi value');\n",
    "    plt.title('Algorithm: {}\\nDataset: {}'.format(algorithm, dataset));\n",
    "    plt.show()"
   ]
  },
  {
   "cell_type": "markdown",
   "metadata": {},
   "source": [
    "# School friendship network #"
   ]
  },
  {
   "cell_type": "code",
   "execution_count": 54,
   "metadata": {},
   "outputs": [],
   "source": [
    "params={}\n",
    "params[\"-t\"] = np.arange(0.05, 1.0, 0.05)"
   ]
  },
  {
   "cell_type": "code",
   "execution_count": 55,
   "metadata": {},
   "outputs": [
    {
     "name": "stdout",
     "output_type": "stream",
     "text": [
      "Output dir name: ../Results/lp_kmd_cm_school_friendship\n",
      "Output file name: ../Results/lp_kmd_cm_school_friendship/pmp_school-2_CM_kmd_7.dat\n"
     ]
    },
    {
     "data": {
      "application/vnd.jupyter.widget-view+json": {
       "model_id": "29faad11e1224130bc6a17f8c0314a35",
       "version_major": 2,
       "version_minor": 0
      },
      "text/plain": [
       "HBox(children=(IntProgress(value=0, max=19), HTML(value='')))"
      ]
     },
     "metadata": {},
     "output_type": "display_data"
    },
    {
     "name": "stdout",
     "output_type": "stream",
     "text": [
      "\n",
      "Best ONMI: 0.577798 params: '-t 0.7000000000000001'\n"
     ]
    }
   ],
   "source": [
    "all_results = lp_experiment(clustersNumber=7, \n",
    "              algorithm = \"kmd\",\n",
    "              distance = \"cm\",\n",
    "              inputFile =  \"../datasets/school_friendship/school-2.gml\", \n",
    "              groundTruth = \"../datasets/school_friendship/truth-school.dat\", \n",
    "              params = params, \n",
    "              vertexNumerationShift=-1, \n",
    "              benchmarkFormat=False)"
   ]
  },
  {
   "cell_type": "code",
   "execution_count": 56,
   "metadata": {},
   "outputs": [
    {
     "data": {
      "image/png": "[encoded data removed]",
      "text/plain": [
       "<Figure size 432x288 with 1 Axes>"
      ]
     },
     "metadata": {},
     "output_type": "display_data"
    }
   ],
   "source": [
    "plot_all_params(algorithm = \"LPMA_Heuristic-CLARANS + commute Distance\", dataset = \"School Friendship\", all_results = all_results)"
   ]
  },
  {
   "cell_type": "markdown",
   "metadata": {},
   "source": [
    "## Clustering results for School Frienship Netwrok with the best parameters ##"
   ]
  },
  {
   "cell_type": "markdown",
   "metadata": {},
   "source": [
    "![school-2_ACM_kmd_7_out](../final_pictures/school-2_CM_kmd_7_out.png)"
   ]
  },
  {
   "cell_type": "markdown",
   "metadata": {
    "collapsed": true
   },
   "source": [
    "# Karate Club #"
   ]
  },
  {
   "cell_type": "code",
   "execution_count": 57,
   "metadata": {},
   "outputs": [
    {
     "name": "stdout",
     "output_type": "stream",
     "text": [
      "Output dir name: ../Results/lp_kmd_cm_karate\n",
      "Output file name: ../Results/lp_kmd_cm_karate/pmp_karate_CM_kmd_2.dat\n"
     ]
    },
    {
     "data": {
      "application/vnd.jupyter.widget-view+json": {
       "model_id": "b2fd594da87d4e6988deb621fa5006a3",
       "version_major": 2,
       "version_minor": 0
      },
      "text/plain": [
       "HBox(children=(IntProgress(value=0, max=19), HTML(value='')))"
      ]
     },
     "metadata": {},
     "output_type": "display_data"
    },
    {
     "name": "stdout",
     "output_type": "stream",
     "text": [
      "\n",
      "Best ONMI: 0.91796 params: '-t 0.45'\n"
     ]
    }
   ],
   "source": [
    "params={}\n",
    "params[\"-t\"] = np.arange(0.05, 1.0, 0.05)\n",
    "all_results = lp_experiment(clustersNumber=2, \n",
    "              algorithm = \"kmd\",\n",
    "              distance = \"cm\",\n",
    "              inputFile =  \"../datasets/karate/karate.gml\", \n",
    "              groundTruth = \"../datasets/karate/truth_karate.dat\", \n",
    "              params = params, \n",
    "              vertexNumerationShift=0, \n",
    "              benchmarkFormat=False)"
   ]
  },
  {
   "cell_type": "code",
   "execution_count": 58,
   "metadata": {},
   "outputs": [
    {
     "data": {
      "image/png": "[encoded data removed]",
      "text/plain": [
       "<Figure size 432x288 with 1 Axes>"
      ]
     },
     "metadata": {},
     "output_type": "display_data"
    }
   ],
   "source": [
    "plot_all_params(algorithm = \"LPAM-Heuristic + Commute Distance\", dataset = \"Karate Club \", all_results = all_results)"
   ]
  },
  {
   "cell_type": "markdown",
   "metadata": {},
   "source": [
    "![karate_ACM_kmd_2_out](../final_pictures/karate_CM_kmd_2_out.png)"
   ]
  },
  {
   "cell_type": "markdown",
   "metadata": {
    "collapsed": true
   },
   "source": [
    "# American Football League c = 12#"
   ]
  },
  {
   "cell_type": "code",
   "execution_count": 59,
   "metadata": {
    "scrolled": true
   },
   "outputs": [
    {
     "name": "stdout",
     "output_type": "stream",
     "text": [
      "Output dir name: ../Results/lp_kmd_cm_football\n",
      "Output file name: ../Results/lp_kmd_cm_football/pmp_footballTSEinput_CM_kmd_12.dat\n"
     ]
    },
    {
     "data": {
      "application/vnd.jupyter.widget-view+json": {
       "model_id": "56a2f46673754d3db45cd50030ccc1c2",
       "version_major": 2,
       "version_minor": 0
      },
      "text/plain": [
       "HBox(children=(IntProgress(value=0, max=19), HTML(value='')))"
      ]
     },
     "metadata": {},
     "output_type": "display_data"
    },
    {
     "name": "stdout",
     "output_type": "stream",
     "text": [
      "\n",
      "Best ONMI: 0.71194 params: '-t 0.5'\n"
     ]
    }
   ],
   "source": [
    "params={}\n",
    "params[\"-t\"] = np.arange(0.05, 1.0, 0.05)\n",
    "all_results = lp_experiment(clustersNumber=12, \n",
    "              algorithm = \"kmd\",\n",
    "              distance = \"cm\",\n",
    "              inputFile =  \"../datasets/football/footballTSEinput.gml\", \n",
    "              groundTruth = \"../datasets/football/truth_footballTSEinput.dat\", \n",
    "              params = params, \n",
    "              vertexNumerationShift=-1, \n",
    "              benchmarkFormat=False)"
   ]
  },
  {
   "cell_type": "code",
   "execution_count": 60,
   "metadata": {
    "scrolled": true
   },
   "outputs": [
    {
     "data": {
      "image/png": "[encoded data removed]",
      "text/plain": [
       "<Figure size 432x288 with 1 Axes>"
      ]
     },
     "metadata": {},
     "output_type": "display_data"
    }
   ],
   "source": [
    "plot_all_params(algorithm = \"LPAM-Heuristic-Clarance + Commute Distance\", dataset = \"American Foolball League\", all_results = all_results)"
   ]
  },
  {
   "cell_type": "markdown",
   "metadata": {},
   "source": [
    "### Americal Football League  [onmi: 0.71194; thresould: 0.5]"
   ]
  },
  {
   "cell_type": "markdown",
   "metadata": {},
   "source": [
    "![American Football Club](../final_pictures/footballTSEinput_CM_kmd_12_out.png)"
   ]
  },
  {
   "cell_type": "markdown",
   "metadata": {},
   "source": [
    "# Adj-noun#"
   ]
  },
  {
   "cell_type": "code",
   "execution_count": 61,
   "metadata": {},
   "outputs": [
    {
     "name": "stdout",
     "output_type": "stream",
     "text": [
      "Output dir name: ../Results/lp_kmd_cm_adjnoun\n",
      "Output file name: ../Results/lp_kmd_cm_adjnoun/pmp_adjnoun_CM_kmd_2.dat\n"
     ]
    },
    {
     "data": {
      "application/vnd.jupyter.widget-view+json": {
       "model_id": "07163ad7f670428fab8ac33dc080f2d4",
       "version_major": 2,
       "version_minor": 0
      },
      "text/plain": [
       "HBox(children=(IntProgress(value=0, max=19), HTML(value='')))"
      ]
     },
     "metadata": {},
     "output_type": "display_data"
    },
    {
     "name": "stdout",
     "output_type": "stream",
     "text": [
      "\n",
      "Best ONMI: 0.00953164 params: '-t 0.05'\n"
     ]
    }
   ],
   "source": [
    "params={}\n",
    "params[\"-t\"] = np.arange(0.05, 1.0, 0.05)\n",
    "all_results = lp_experiment(clustersNumber=2, \n",
    "              algorithm = \"kmd\",\n",
    "              distance = \"cm\",\n",
    "              inputFile =  \"../datasets/adjnoun/adjnoun.dat\", \n",
    "              groundTruth = \"../datasets/adjnoun/truth_adjnoun.dat\", \n",
    "              params = params, \n",
    "              vertexNumerationShift=0, \n",
    "              benchmarkFormat=True)"
   ]
  },
  {
   "cell_type": "code",
   "execution_count": 62,
   "metadata": {},
   "outputs": [
    {
     "data": {
      "image/png": "[encoded data removed]",
      "text/plain": [
       "<Figure size 432x288 with 1 Axes>"
      ]
     },
     "metadata": {},
     "output_type": "display_data"
    }
   ],
   "source": [
    "plot_all_params(algorithm = \"LPAM-Heuristic-Clarance + Commute Distance\", dataset = \"Adj noun\", all_results = all_results)"
   ]
  },
  {
   "cell_type": "markdown",
   "metadata": {},
   "source": [
    "### Adj-noun [ onmi: 0.00953164; thresould: 0.05 ] "
   ]
  },
  {
   "cell_type": "markdown",
   "metadata": {},
   "source": [
    "![adjnoun_ACM_kmd_2](../final_pictures/adjnoun_CM_pmp_2_out.png)"
   ]
  },
  {
   "cell_type": "markdown",
   "metadata": {},
   "source": [
    "# Politics Books #"
   ]
  },
  {
   "cell_type": "code",
   "execution_count": 63,
   "metadata": {},
   "outputs": [
    {
     "name": "stdout",
     "output_type": "stream",
     "text": [
      "Output dir name: ../Results/lp_kmd_cm_polbooks\n",
      "Output file name: ../Results/lp_kmd_cm_polbooks/pmp_polbooks_CM_kmd_2.dat\n"
     ]
    },
    {
     "data": {
      "application/vnd.jupyter.widget-view+json": {
       "model_id": "b27d776f640d4a2d8acc0ec80425e887",
       "version_major": 2,
       "version_minor": 0
      },
      "text/plain": [
       "HBox(children=(IntProgress(value=0, max=19), HTML(value='')))"
      ]
     },
     "metadata": {},
     "output_type": "display_data"
    },
    {
     "name": "stdout",
     "output_type": "stream",
     "text": [
      "\n",
      "Best ONMI: 0.440109 params: '-t 0.7000000000000001'\n"
     ]
    }
   ],
   "source": [
    "params={}\n",
    "params[\"-t\"] = np.arange(0.05, 1.0, 0.05)\n",
    "all_results = lp_experiment(clustersNumber=2, \n",
    "              algorithm = \"kmd\",\n",
    "              distance = \"cm\",\n",
    "              inputFile = \"../datasets/polbooks/polbooks.dat\",\n",
    "              groundTruth = \"../datasets/polbooks/truth_polbooks.dat\", \n",
    "              params = params, \n",
    "              vertexNumerationShift=0, \n",
    "              benchmarkFormat=True)"
   ]
  },
  {
   "cell_type": "code",
   "execution_count": 148,
   "metadata": {},
   "outputs": [
    {
     "data": {
      "image/png": "[encoded data removed]",
      "text/plain": [
       "<Figure size 432x288 with 1 Axes>"
      ]
     },
     "metadata": {},
     "output_type": "display_data"
    }
   ],
   "source": [
    "plot_all_params(algorithm = \"LPAM-Heuristic-Clarance + Commute Distance\", dataset = \"Politics Books\", all_results = all_results)"
   ]
  },
  {
   "cell_type": "markdown",
   "metadata": {},
   "source": [
    "![polbooks_ACM_kmd_2_out](../final_pictures/polbooks_CM_kmd_2_out.png)"
   ]
  }
 ],
 "metadata": {
  "kernelspec": {
   "display_name": "Python 3",
   "language": "python",
   "name": "python3"
  },
  "language_info": {
   "codemirror_mode": {
    "name": "ipython",
    "version": 3
   },
   "file_extension": ".py",
   "mimetype": "text/x-python",
   "name": "python",
   "nbconvert_exporter": "python",
   "pygments_lexer": "ipython3",
   "version": "3.6.3"
  }
 },
 "nbformat": 4,
 "nbformat_minor": 2
}
